{
 "cells": [
  {
   "cell_type": "code",
   "execution_count": null,
   "metadata": {},
   "outputs": [],
   "source": [
    "# https://github.com/StatBiomed/UniTVelo\n",
    "# conda create -n unitvelo python=3.7\n",
    "# conda activate unitvelo\n",
    "import unitvelo as utv\n",
    "import scvelo as scv\n",
    "import numpy as np\n",
    "import pandas\n",
    "import importlib_metadata\n",
    "scv.set_figure_params(dpi=200, fontsize=16, facecolor='none')\n",
    "# Arguments:\n",
    "# -- velo.R2_ADJUST (bool), linear regression R-squared on extreme quantile (default) or full data (adjusted)\n",
    "# -- velo.IROOT (str), specify root cell cluster would enable diffusion map based time initialization, default None\n",
    "# -- velo.FIT_OPTION (str), '1' Unified-time mode (default), '2' Independent mode\n",
    "# -- velo.GPU (int), specify the GPU card used for fitting, -1 will switch to CPU mode, default 0.\n",
    "\n",
    "velo_config = utv.config.Configuration()\n",
    "# velo_config.R2_ADJUST = True \n",
    "# velo_config.IROOT = None\n",
    "# velo_config.FIT_OPTION = '1'\n",
    "# velo_config.GPU = '-1'\n",
    "# velo_config.AGENES_R2 = 1\n",
    "\n",
    "# from Fig3 of Unitvelo paper, now with modifications\n",
    "velo_config.MIN_SHARED_COUNTS = 20 # def 20\n",
    "velo_config.N_TOP_GENES = 2000 # def 2000\n",
    "velo_config.N_PCS = 50  # def 30\n",
    "# https://github.com/theislab/scvelo/issues/112  Could you check how the stoch. model behaves as you decrease the number of neighbors in scv.pp.moments(adata, n_neighbors=10). I think 30 neighbors on 100 cells for second-oder moments is way too much. That default value was selected when testing against datasets of 3k - 35k cells\n",
    "velo_config.N_NEIGHBORS = 30 # def 30\n",
    "velo_config.VGENES = 'offset'\n",
    "# done velo_config.VGENES = 'offset'\n",
    "velo_config.R2_ADJUST = False\n",
    "velo_config.IROOT = 'Tpex1' # def None 'Tpex'\n",
    "velo_config.FIT_OPTION = '1'\n",
    "# velo_config.NUM_REP = 2\n",
    "        # (int) number of random initializations of time points, default 1\n",
    "        # in rare cases, velocity field generated might be reversed, possibly because stably and monotonically changed genes\n",
    "        # change this parameter to 2 might do the trick\n",
    "        # self.NUM_REP = 1\n",
    "        # when self.NUM_REP = 2, the following parameter will determine how the second time will be initialized \n",
    "\n",
    "\n",
    "\n",
    "# (str) selection creteria for velocity genes used in RNA velocity construction, default basic\n",
    "        # 1. raws, all highly variable genes specified by self.N_TOP_GENES will be used\n",
    "        # 2. offset, linear regression $R^2$ and coefficient with offset, will override self.R2_ADJUST\n",
    "        # 3. basic, linear regression $R^2$ and coefficient without offset\n",
    "        # 4. single gene name, fit this designated gene alone, for model validation purpose only\n",
    "        # 5. [list of gene names], manually provide a list of genes as velocity genes in string, might improve performance, see scNT\n",
    "        # self.VGENES = 'basic'\n",
    "\n",
    "\n",
    "\n",
    "\n",
    "label = 'clusters'\n",
    "exp_metrics = {}"
   ]
  },
  {
   "cell_type": "code",
   "execution_count": null,
   "metadata": {},
   "outputs": [],
   "source": [
    "# # generated using velocyto to extract splicing info\n",
    "\n",
    "adata_OTW1 = scv.read(\"starsolo_sorted_renamedCB_OTW1_BKUJN.loom\", cache=True)\n",
    "adata_OTW2 = scv.read(\"starsolo_sorted_renamedCB_OTW2_WZZQC.loom\", cache=True)\n",
    "scv.utils.clean_obs_names(adata_OTW1)\n",
    "scv.utils.clean_obs_names(adata_OTW2)\n",
    "\n",
    "\n",
    "adata_OTK1 = scv.read(\"starsolo_sorted_renamedCB_OTK1_XK8RL.loom\", cache=True)\n",
    "adata_OTK2 = scv.read(\"starsolo_sorted_renamedCB_OTK2_GYNSM.loom\", cache=True)\n",
    "\n",
    "scv.utils.clean_obs_names(adata_OTK1)\n",
    "scv.utils.clean_obs_names(adata_OTK2)\n",
    "\n",
    "\n",
    "\n",
    "# generated from seurat object from H5AD\n",
    "# adata_seurat_h5ad = scv.read('05_reclustered_ovarT_integrated_noRefUsed_seurat_obj.h5ad', cache=True) \n",
    "# scv.utils.clean_obs_names(adata_seurat)\n",
    "\n",
    "# # generated from seurat object from LOOM\n",
    "adata_seurat= scv.read('03_reclustered_ovarT_integrated_noRefUsed_seurat_obj_LOOM.loom', cache=True) \n",
    "\n",
    "\n",
    "# adata_seurat= scv.read('04_reclustered_ovarT_integrated_noRefUsed_seurat_obj_LOOM.loom', cache=True) \n",
    "\n"
   ]
  },
  {
   "cell_type": "code",
   "execution_count": null,
   "metadata": {},
   "outputs": [],
   "source": [
    "adata_seurat"
   ]
  },
  {
   "cell_type": "code",
   "execution_count": null,
   "metadata": {},
   "outputs": [],
   "source": [
    "adata_seurat.obs['condition']"
   ]
  },
  {
   "cell_type": "code",
   "execution_count": null,
   "metadata": {},
   "outputs": [],
   "source": [
    "# filter only cells from individual samples\n",
    "adata_seurat_OTW1 = adata_seurat[adata_seurat.obs['sample'].isin(['OTW1'])].copy()                       \n",
    "adata_seurat_OTW1.obs['condition']\n",
    "scv.utils.clean_obs_names(adata_seurat_OTW1)\n",
    "\n",
    "adata_seurat_OTW2 = adata_seurat[adata_seurat.obs['sample'].isin(['OTW2'])].copy()                       \n",
    "adata_seurat_OTW2.obs['condition']\n",
    "scv.utils.clean_obs_names(adata_seurat_OTW2)\n",
    "\n",
    "adata_seurat_OTK1 = adata_seurat[adata_seurat.obs['sample'].isin(['OTK1'])].copy()                       \n",
    "adata_seurat_OTK1.obs['condition']\n",
    "scv.utils.clean_obs_names(adata_seurat_OTK1)\n",
    "\n",
    "adata_seurat_OTK2 = adata_seurat[adata_seurat.obs['sample'].isin(['OTK2'])].copy()                       \n",
    "adata_seurat_OTK2.obs['condition']\n",
    "scv.utils.clean_obs_names(adata_seurat_OTK2)\n",
    "adata_seurat_OTK2\n",
    "# # filter only WT cells\n",
    "# adata_seurat_wt = adata_seurat[adata_seurat.obs['condition'].isin(['WT'])].copy()                       \n",
    "# adata_seurat_wt.obs['condition']"
   ]
  },
  {
   "cell_type": "code",
   "execution_count": null,
   "metadata": {},
   "outputs": [],
   "source": [
    "# # combine replicates together with seurat, this function only works with 2 datasets so I need to split the command and then not merge but concatenate the files\n",
    "# adata1 = scv.utils.merge(adata_OTW1, adata_seurat_OTW1)\n",
    "# adata2 = scv.utils.merge(adata_OTW2, adata_seurat_OTW2)\n",
    "# adata3 = scv.utils.merge(adata_OTK1, adata_seurat_OTK1)\n",
    "# adata4 = scv.utils.merge(adata_OTK2, adata_seurat_OTK2)\n",
    "\n",
    "\n",
    "adata1 = scv.utils.merge(adata_seurat_OTW1, adata_OTW1)\n",
    "adata2 = scv.utils.merge(adata_seurat_OTW2, adata_OTW2)\n",
    "adata3 = scv.utils.merge(adata_seurat_OTK1, adata_OTK1)\n",
    "adata4 = scv.utils.merge(adata_seurat_OTK2, adata_OTK2)\n",
    "\n",
    "\n",
    "adata_wt = adata1.concatenate(adata2)\n",
    "adata_ko = adata3.concatenate(adata4)\n",
    "adata_ko"
   ]
  },
  {
   "cell_type": "code",
   "execution_count": null,
   "metadata": {},
   "outputs": [],
   "source": [
    "# import existing data\n",
    "# adata.write('adata_scvelo.h5ad', compression='gzip')\n",
    "# adata.write('adata_scvelo.loom')\n",
    "\n",
    "# adata = scv.read('adata_scvelo.h5ad')\n",
    "# adata\n",
    "adata_wt"
   ]
  },
  {
   "cell_type": "code",
   "execution_count": null,
   "metadata": {},
   "outputs": [],
   "source": [
    "# import UMAP coordinates from seurat metadata\n",
    "adata_wt.obsm['X_tsne'] = np.stack((adata_wt.obs['tSNE_1'], adata_wt.obs['tSNE_2']), axis=-1)\n",
    "adata_wt.obs['clusters'] = adata_wt.obs['reclustering']\n",
    "\n",
    "adata_ko.obsm['X_tsne'] = np.stack((adata_ko.obs['tSNE_1'], adata_ko.obs['tSNE_2']), axis=-1)\n",
    "adata_ko.obs['clusters'] = adata_ko.obs['reclustering']"
   ]
  },
  {
   "cell_type": "code",
   "execution_count": null,
   "metadata": {},
   "outputs": [],
   "source": [
    "# Visualize proportions of spliced and unspliced transcripts\n",
    "\n",
    "scv.pl.proportions(adata_wt, save='wt.svg')\n",
    "\n",
    "# scv.pl.proportions(adata_wt)\n"
   ]
  },
  {
   "cell_type": "code",
   "execution_count": null,
   "metadata": {},
   "outputs": [],
   "source": [
    "# Run model (label refers to column name in adata.obs specifying celltypes)\n",
    "\n",
    "# sometimes this gets stuck so you have to remove or rename the folder in res/temp and then simply rerun this block and it should work\n",
    "import importlib_metadata\n",
    "adataM_wt = utv.run_model(adata_wt, label, config_file=velo_config)"
   ]
  },
  {
   "cell_type": "code",
   "execution_count": null,
   "metadata": {},
   "outputs": [],
   "source": [
    "# I did not run these prior to the model\n",
    "# scv.pp.filter_and_normalize(adata_wt, min_shared_counts=20, n_top_genes=2000, subset_highly_variable=False) #using this filtering on this single small replicate, I end up with only 6 genes with the default filtering; default 20 and 2000\n",
    "# # scv.pp.moments(adata, n_pcs=30, n_neighbors=10) # default is 30 for neighbors, but they recommend to try lower numbers like 10 when dealing with low number of total cells\n",
    "\n",
    "# scv.tl.pca(adata_wt)\n",
    "# scv.pp.neighbors(adata_wt, n_pcs=30, n_neighbors=30, random_state=0)\n",
    "# scv.pp.moments(adata_wt, n_pcs=None, n_neighbors=None)"
   ]
  },
  {
   "cell_type": "code",
   "execution_count": null,
   "metadata": {},
   "outputs": [],
   "source": [
    "# Visualize proportions of spliced and unspliced transcripts\n",
    "scv.pl.proportions(adata_ko, save='ko.svg')\n",
    "\n",
    "# scv.pl.proportions(adata_ko)"
   ]
  },
  {
   "cell_type": "code",
   "execution_count": null,
   "metadata": {},
   "outputs": [],
   "source": [
    "# I did not run these prior to the model\n",
    "# scv.pp.filter_and_normalize(adata_ko, min_shared_counts=20, n_top_genes=2000, subset_highly_variable=False) #using this filtering on this single small replicate, I end up with only 6 genes with the default filtering; default 20 and 2000\n",
    "# # scv.pp.moments(adata, n_pcs=30, n_neighbors=10) # default is 30 for neighbors, but they recommend to try lower numbers like 10 when dealing with low number of total cells\n",
    "\n",
    "# scv.tl.pca(adata_ko)\n",
    "# scv.pp.neighbors(adata_ko, n_pcs=30, n_neighbors=30, random_state=0)\n",
    "# scv.pp.moments(adata_ko, n_pcs=None, n_neighbors=None)"
   ]
  },
  {
   "cell_type": "code",
   "execution_count": null,
   "metadata": {},
   "outputs": [],
   "source": [
    "# Run model (label refers to column name in adata.obs specifying celltypes)\n",
    "import importlib_metadata\n",
    "adataM_ko = utv.run_model(adata_ko, label, config_file=velo_config)"
   ]
  },
  {
   "cell_type": "code",
   "execution_count": null,
   "metadata": {},
   "outputs": [],
   "source": [
    "# # save if needed but normally it is automatically saved from the model\n",
    "# adataM_wt.write('./res/wt_tsne_120424_recluster2/temp_1.h5ad', compression='gzip')\n",
    "\n",
    "adataM_ko.write('./res/ko_tsne_120424_recluster2/temp_1.h5ad', compression='gzip')"
   ]
  },
  {
   "cell_type": "code",
   "execution_count": null,
   "metadata": {},
   "outputs": [],
   "source": [
    "adataM_ko"
   ]
  },
  {
   "cell_type": "code",
   "execution_count": null,
   "metadata": {},
   "outputs": [],
   "source": [
    "adataM_wt"
   ]
  },
  {
   "cell_type": "code",
   "execution_count": null,
   "metadata": {},
   "outputs": [],
   "source": [
    "# saved temporary data from the model\n",
    "import os\n",
    "os.listdir('./res/ko_tsne_120424_recluster2')"
   ]
  },
  {
   "cell_type": "code",
   "execution_count": null,
   "metadata": {},
   "outputs": [],
   "source": [
    "adataM = scv.read('./res/wt_tsne_101824_recluster2/temp_1.h5ad')\n",
    "adataM_wt=adataM\n",
    "\n",
    "# change colors if needed\n",
    "\n",
    "adataM = scv.read('./res/ko_tsne_101824_recluster2/temp_1.h5ad')\n",
    "# adataM = adataM_ko\n",
    "adataM_ko=adataM"
   ]
  },
  {
   "cell_type": "code",
   "execution_count": null,
   "metadata": {},
   "outputs": [],
   "source": [
    "# see present colors\n",
    "adataM.uns['clusters_colors']\n",
    "\n",
    "# array(['#1f77b4', '#ff7f0e', '#2ca02c', '#d62728', '#9467bd', '#8c564b', '#e377c2'], dtype=object) ...for KO\n",
    "# ['Tdual', 'Teff', 'Tex', 'Tpex', 'Tprol1', 'Tprol2', 'Ttex']\n",
    "# ['#1f77b4', '#ff7f0e', '#2ca02c', '#d62728', '#9467bd', '#8c564b'] ..for WT\n",
    "# ['Teff', 'Tex', 'Tpex', 'Tprol1', 'Tprol2', 'Ttex']\n",
    "\n",
    "# # original\n",
    "# adataM.uns[f'{label}_colors'] = ['#ff7f0e', '#2ca02c', '#d62728', '#9467bd', '#8c564b','#e377c2']\n",
    "\n",
    "\n",
    "\n",
    "\n"
   ]
  },
  {
   "cell_type": "code",
   "execution_count": null,
   "metadata": {},
   "outputs": [],
   "source": [
    "# # import UMAP coordinates from seurat metadata\n",
    "#adataM.obsm['X_tsne'] = np.stack((adataM.obs['tSNE_1'][::-1], adataM.obs['tSNE_2'][::-1]), axis=1) # this reverses the order but doesn't fix the problem\n",
    "# adataM.obsm['X_tsne'] = np.stack((adataM.obs['tSNE_1'], adataM.obs['tSNE_2']), axis=-1)\n",
    "# adataM.obsm['X_umap'] = np.stack((adataM.obs['UMAP_1'], adataM.obs['UMAP_2']), axis=-1)\n",
    "scv.pl.velocity_embedding_stream(adataM, color=label, dpi=120, title='Re-clustered CD8 OT-I',basis='tsne')\n",
    "# adata_wt.obs['clusters'] = adata_wt.obs['reclustering']\n",
    "\n",
    "# adata_ko.obsm['X_tsne'] = np.stack((adata_ko.obs['tSNE_1'], adata_ko.obs['tSNE_2']), axis=-1)\n",
    "# adata_ko.obs['clusters'] = adata_ko.obs['reclustering']"
   ]
  },
  {
   "cell_type": "code",
   "execution_count": null,
   "metadata": {},
   "outputs": [],
   "source": [
    "## THIS GIVES THE MOST IMPORTANT PLOT FOR PUBLICATION ...and repeat it also for KO\n",
    "import warnings\n",
    "warnings.filterwarnings(\"ignore\", category=DeprecationWarning) \n",
    "adataM = adataM_wt\n",
    "# for WT only change the colors so that they correspond to KO\n",
    "adataM.uns[f'{label}_colors'] = [\"#00BFC4\",\"#B79F00\",\"#00BA38\",\"#F8766D\",\"#619CFF\",\"#F564E3\"]\n",
    "\n",
    "\n",
    "scv.set_figure_params(style='scvelo', dpi=150, dpi_save=400, frameon=None, vector_friendly=True, transparent=True, fontsize=12, figsize=[4,5])\n",
    "scv.pl.velocity_embedding(adataM, arrow_length=3, arrow_size=2, basis='tsne', save='embedding_wt.svg')\n",
    "scv.pl.velocity_embedding_grid(adataM, arrow_length=3, arrow_size=2, basis='tsne', save='embedding_grid_wt.svg')\n",
    "scv.pl.velocity_embedding_stream(adataM, color=label, title='Re-clustered CD8 OT-I',basis='tsne', save='embedding_stream_wt.svg')\n",
    "\n",
    "# adataM"
   ]
  },
  {
   "cell_type": "code",
   "execution_count": null,
   "metadata": {},
   "outputs": [],
   "source": [
    "adataM"
   ]
  },
  {
   "cell_type": "code",
   "execution_count": null,
   "metadata": {},
   "outputs": [],
   "source": [
    "# Parameter `cluster_edges` is for algorithm evaluation purpose given expert annotated ground truth. It contains a list of tuples in which stores the source cluster and target cluster of cells.\n",
    "# cluster_edges = [\n",
    "#     (\"Tpex\"), \n",
    "#     (\"Tprol1\", \"Tprol2\"),\n",
    "#     (\"Teff\", \"Tdual\"), \n",
    "#     (\"Tex\"),(\"Ttex\")]"
   ]
  },
  {
   "cell_type": "code",
   "execution_count": null,
   "metadata": {},
   "outputs": [],
   "source": [
    "scv.tl.latent_time(adataM, min_likelihood=None)\n",
    "scv.pl.scatter(adataM, color='latent_time', color_map='gnuplot', size=20, dpi=400,basis='tsne')"
   ]
  },
  {
   "cell_type": "code",
   "execution_count": null,
   "metadata": {},
   "outputs": [],
   "source": [
    "subvar = adataM.var.loc[adataM.var['velocity_genes'] == True]\n",
    "sub = adataM[:, subvar.index]"
   ]
  },
  {
   "cell_type": "code",
   "execution_count": null,
   "metadata": {},
   "outputs": [],
   "source": [
    "# save all the genes with latent times\n",
    "sub.var.to_csv('genes_all_variable_latent_time_KOonly.txt', sep='\\t', index=True)"
   ]
  },
  {
   "cell_type": "code",
   "execution_count": null,
   "metadata": {},
   "outputs": [],
   "source": [
    "import seaborn as sns\n",
    "import matplotlib.pyplot as plt\n",
    "sns.displot(sub.var['fit_t'].values, kde=True, bins=20)\n",
    "plt.xticks([0, 0.5, 1], fontsize=13)\n",
    "plt.yticks(fontsize=13)\n",
    "plt.ylabel('Number of Genes', fontsize=15)\n",
    "plt.title('Peak Time', fontsize=15)"
   ]
  },
  {
   "cell_type": "code",
   "execution_count": null,
   "metadata": {},
   "outputs": [],
   "source": [
    "scv.tl.rank_velocity_genes(adataM, groupby='clusters', min_corr=.3)\n",
    "df = pandas.DataFrame(adataM.uns['rank_velocity_genes']['names'])\n",
    "df.head(n=100)"
   ]
  },
  {
   "cell_type": "code",
   "execution_count": null,
   "metadata": {},
   "outputs": [],
   "source": [
    "kwargs = dict(frameon=False, size=10, linewidth=1.5,\n",
    "              add_outline='Tpex1,Ttex1')\n",
    "\n",
    "scv.pl.scatter(adataM, df['Tpex1'][:5], ylabel='Tpex1', **kwargs)\n",
    "scv.pl.scatter(adataM, df['Ttex1'][:5], ylabel='Ttex1', **kwargs)"
   ]
  },
  {
   "cell_type": "code",
   "execution_count": null,
   "metadata": {},
   "outputs": [],
   "source": [
    "scv.pl.scatter(adataM, 'Bcl11b', color=['clusters', 'velocity'])"
   ]
  },
  {
   "cell_type": "code",
   "execution_count": null,
   "metadata": {},
   "outputs": [],
   "source": [
    "# adataM_wt =adataM\n",
    "# adataM_ko=adataM\n",
    "adataM=adataM_wt\n",
    "scv.pl.velocity(adataM, ['Il7r','Bcl2', 'Tbx21','Ikzf1','Pdcd1','Havcr2','Ccl5','Gzma','Bcl11b'], ncols=2,basis='tsne')\n",
    "# Il7r Bcl2 Tbx21Ikzf1 Pdcd1 HAVCR Ccl5 Gzma \n",
    "# # scv.pl.velocity(adataM, ['Il7r','Tcf7','Bach2','Slamf6','Cd55', 'Bcl2', 'Tbx21','Ikzf1','Pdcd1','Ctla4','Havcr2','Tox','Ccl1','Ccl5','Gzma','Gzmk'], ncols=2,basis='tsne')\n",
    "\n",
    "#  'Cd44',  'Gzma', ,'Tcf7','Tox'"
   ]
  },
  {
   "cell_type": "code",
   "execution_count": null,
   "metadata": {},
   "outputs": [],
   "source": [
    "# repression genes\n",
    "gene = sub.var.loc[sub.var['fit_t'] < 0].index # repression gene\n",
    "with open(\"genes_KOonly_repression_raw.txt\", \"w\") as outfile:\n",
    "    outfile.write(\"\\n\".join(gene))\n",
    "\n",
    "# genes_repression = open('genes_repression.txt', 'r')"
   ]
  },
  {
   "cell_type": "code",
   "execution_count": null,
   "metadata": {},
   "outputs": [],
   "source": [
    "scv.tl.score_genes_cell_cycle(adataM)\n",
    "scv.pl.scatter(adataM, color_gradients=['S_score', 'G2M_score'], smooth=True, perc=[5, 95], dpi=120,basis='tsne')"
   ]
  },
  {
   "cell_type": "code",
   "execution_count": null,
   "metadata": {},
   "outputs": [],
   "source": [
    "scv.tl.velocity_confidence(adataM)\n",
    "keys = 'velocity_length', 'velocity_confidence'\n",
    "scv.pl.scatter(adataM, c=keys, cmap='coolwarm', perc=[5, 95], dpi=120,basis='tsne')"
   ]
  },
  {
   "cell_type": "code",
   "execution_count": null,
   "metadata": {},
   "outputs": [],
   "source": [
    "df = adataM.obs.groupby('clusters')[keys].mean().T\n",
    "df.style.background_gradient(cmap='coolwarm', axis=1)"
   ]
  },
  {
   "cell_type": "code",
   "execution_count": null,
   "metadata": {},
   "outputs": [],
   "source": []
  },
  {
   "cell_type": "code",
   "execution_count": null,
   "metadata": {},
   "outputs": [],
   "source": [
    "scv.tl.terminal_states(adataM)\n",
    "scv.pl.scatter(adataM, color=[\"root_cells\", \"end_points\"],basis='tsne')"
   ]
  },
  {
   "cell_type": "code",
   "execution_count": null,
   "metadata": {},
   "outputs": [],
   "source": [
    "scv.pl.velocity_graph(adataM, threshold=.8,basis='tsne')"
   ]
  },
  {
   "cell_type": "code",
   "execution_count": null,
   "metadata": {},
   "outputs": [],
   "source": [
    "x, y = scv.utils.get_cell_transitions(adataM, basis='tsne', starting_cell=100)\n",
    "ax = scv.pl.velocity_graph(adataM, c='lightgrey', edge_width=.05, show=False, dpi=120, basis='tsne')\n",
    "ax = scv.pl.scatter(adataM, x=x, y=y, s=120, c='ascending', cmap='gnuplot', ax=ax, dpi=120, basis='tsne')"
   ]
  },
  {
   "cell_type": "code",
   "execution_count": null,
   "metadata": {},
   "outputs": [],
   "source": [
    "scv.tl.velocity_pseudotime(adataM)\n",
    "scv.pl.scatter(adataM, color='velocity_pseudotime', cmap='gnuplot', basis='tsne')"
   ]
  },
  {
   "cell_type": "code",
   "execution_count": null,
   "metadata": {},
   "outputs": [],
   "source": [
    "# this is needed due to a current bug - bugfix is coming soon.\n",
    "adataM.uns['neighbors']['distances'] = adataM.obsp['distances']\n",
    "adataM.uns['neighbors']['connectivities'] = adataM.obsp['connectivities']\n",
    "\n",
    "scv.tl.paga(adataM, groups='clusters')\n",
    "df = scv.get_df(adataM, 'paga/transitions_confidence', precision=2).T\n",
    "df.style.background_gradient(cmap='Blues').format('{:.2g}')"
   ]
  },
  {
   "cell_type": "code",
   "execution_count": null,
   "metadata": {},
   "outputs": [],
   "source": [
    "scv.pl.paga(adataM, basis='tsne', size=50, alpha=.1,\n",
    "            min_edge_width=2, node_size_scale=1.5)"
   ]
  },
  {
   "cell_type": "code",
   "execution_count": null,
   "metadata": {},
   "outputs": [],
   "source": [
    "# plot the heatmap for repression genes\n",
    "# change genes that we don't want to show in the heatmap to None and then provide it for: yticklabels=['gene 1', None, None, None, 'gene 5'] https://github.com/theislab/scvelo/issues/445\n",
    "\n",
    "scv.pl.heatmap(\n",
    "    adataM, var_names=gene, sortby='latent_time', yticklabels=['Smap1',None,None,'Creb1',None,None,None,None,None,None,'Kif14',None,None,None,None,None,None,None,None,'Fyn','Prf1',None,None,None,None,None,None,None,None,None,None,None,None,'Ikzf1',None,None,None,None,None,None,'Havcr2',None,'Ncor1',None,None,None,None,None,None,None,None,None,None,None,None,'Stat3',None,None,None,None,None,None,None,None,None,None,None,None,None,None,None,None,None,None,None,None,None,None,None,None,None,None,None,None,None,None,None,'Gzma','Gzmk',None,None,None,None,None,None,None,None,None,None,'Il7r',None,None,None,None,'Ep300',None,None,None,None,None,None,None,None,None,None,None,None,None,None,None,None,None,None,None,None,None,'Foxp4',None,'Satb1',None,None,None,None,'Brd8',None,None,None,None,None,None,None,None,None,None,None,None,'Gata3',None,'Il2ra',None,None,None,None,None,None,None,None,None,None,None,None,None,None,None,None,None,None,None,None,None,None,None,None,None,None,None,None,None,None,None,None,None,None,None,None,None,None,None,None,'S1pr1',None,None,None,None,None,None,None,None,None,None,None,None,None,None,None,None,None,None,None,'Runx3',None,None,None,None,None,None,None,None,None,None,None,None,None,None,None,None,None,None,None,None,None,None,None,None,None,None,None,None,None,None,None,None,None,None,None,None,None,None,None,None,None,None,None,None,None,None,None,None,None,None,None,'Mki67',None,None,None,None,None,None,None,None,None,None,None,None,None,None,None,None,None,None,None,None,None,None,None,None,None,None,None,None,None,None,None,None,None,None,None,None,None,None,None,None,None,None,None,None,None,None,None,None,None,None,None,None],\n",
    "    col_color=label, n_convolve=100)\n",
    "    # save='heatmap_genes_repression.png')\n",
    "\n",
    "\n"
   ]
  },
  {
   "cell_type": "code",
   "execution_count": null,
   "metadata": {},
   "outputs": [],
   "source": [
    "adataM\n",
    "top_genes = adataM.var['fit_t'].sort_values(ascending=False).index\n",
    "# top_genes = adataM.var['fit_likelihood'].sort_values(ascending=False).index[:300]\n",
    "scv.pl.heatmap(adataM, var_names=top_genes, sortby='latent_time', col_color='clusters', n_convolve=100)"
   ]
  },
  {
   "cell_type": "code",
   "execution_count": null,
   "metadata": {},
   "outputs": [],
   "source": []
  },
  {
   "cell_type": "code",
   "execution_count": null,
   "metadata": {},
   "outputs": [],
   "source": [
    "top_genes\n"
   ]
  },
  {
   "cell_type": "code",
   "execution_count": null,
   "metadata": {},
   "outputs": [],
   "source": [
    "# induction genes\n",
    "gene = sub.var.loc[sub.var['fit_t'] > 0.95].index\n",
    "with open(\"genes_KOonly_induction_raw.txt\", \"w\") as outfile:\n",
    "    outfile.write(\"\\n\".join(gene))\n",
    "\n",
    "# # save the induction genes\n",
    "# genes_repression = open('genes_induction.txt', 'r')"
   ]
  },
  {
   "cell_type": "code",
   "execution_count": null,
   "metadata": {},
   "outputs": [],
   "source": [
    "# change genes that we don't want to show in the heatmap to None and then provide it for: yticklabels=['gene 1', None, None, None, 'gene 5'] https://github.com/theislab/scvelo/issues/445\n",
    "scv.pl.heatmap(\n",
    "    adataM, var_names=gene, sortby='latent_time', yticklabels=[None,None,None,None,None,None,None,None,None,'Tcf7',None,None,None,None,None,'Ccl1','Ccl5',None,None,'Nfkbia',None,None,None,None,None,None,None,None,None,None,None,'Sub1',None,None,None,None,None,None,None,None,None,None,None,None,None,None,None,None,None,'Nr4a2',None,None,None,None,None,None,None,None,'Nr4a3',None,None,None,None,'Cd52',None,None,None,None,None,None,None,None,None,None,None,None,None,'Klrg1','Klrb1a','Klre1','Klrd1','Klrh1','Klra5',None,None,'Tyrobp',None,None,None,None,'Cd37',None,None,None,None,None,None,None,None,None,None,None,'Cd3g',None,None,'Ccr2',None,None],\n",
    "    col_color=label, n_convolve=100)\n",
    "    # save='heatmap_genes_induction.png')\n",
    "\n"
   ]
  },
  {
   "cell_type": "code",
   "execution_count": null,
   "metadata": {},
   "outputs": [],
   "source": [
    "utv.pl.plot_range('Cd44', adataM, velo, show_legend=True, show_ax=True)"
   ]
  },
  {
   "cell_type": "code",
   "execution_count": null,
   "metadata": {},
   "outputs": [],
   "source": [
    "# CONTINUE BY FIGURING OUT HOW TO GET PROPER TABLE OF REPRESSION and induction genes, export them and label appropriate genes to the heatmap"
   ]
  },
  {
   "cell_type": "code",
   "execution_count": null,
   "metadata": {},
   "outputs": [],
   "source": [
    "subvar = adataM.var.loc[adataM.var['velocity_genes'] == True]\n",
    "sub = adataM[:, subvar.index]"
   ]
  },
  {
   "cell_type": "code",
   "execution_count": null,
   "metadata": {},
   "outputs": [],
   "source": [
    "import seaborn as sns\n",
    "import matplotlib.pyplot as plt\n",
    "sns.displot(sub.var['fit_t'].values, kde=True, bins=20)\n",
    "plt.xticks([0, 1], fontsize=13)\n",
    "plt.yticks(fontsize=13)\n",
    "plt.ylabel('Number of Genes', fontsize=15)\n",
    "plt.title('Peak Time', fontsize=15)"
   ]
  },
  {
   "cell_type": "code",
   "execution_count": null,
   "metadata": {},
   "outputs": [],
   "source": [
    "r2 = sub.var[['fit_t', 'fit_sr2', 'fit_ur2']].sort_values(by=['fit_sr2'], ascending=False)\n",
    "r2"
   ]
  },
  {
   "cell_type": "code",
   "execution_count": null,
   "metadata": {},
   "outputs": [],
   "source": [
    "utv.pl.plot_range('Tcf7', adataM, velo_config,\n",
    "    show_legend=False, show_ax=False)"
   ]
  },
  {
   "cell_type": "code",
   "execution_count": null,
   "metadata": {},
   "outputs": [],
   "source": [
    "gene_name = 'Tcf7'\n",
    "adataM.obs['temp'] = adataM[:, gene_name].layers['Ms']\n",
    "scv.pl.scatter(adataM, color='temp', color_map='viridis', size=20, title='')"
   ]
  },
  {
   "cell_type": "code",
   "execution_count": null,
   "metadata": {},
   "outputs": [],
   "source": [
    "# copy this WTonly and make it separately for WT and KO, then produce the files with 30 neighbors, root Tpex, offset"
   ]
  }
 ],
 "metadata": {
  "kernelspec": {
   "display_name": "unitvelo",
   "language": "python",
   "name": "python3"
  },
  "language_info": {
   "codemirror_mode": {
    "name": "ipython",
    "version": 3
   },
   "file_extension": ".py",
   "mimetype": "text/x-python",
   "name": "python",
   "nbconvert_exporter": "python",
   "pygments_lexer": "ipython3",
   "version": "3.7.12"
  }
 },
 "nbformat": 4,
 "nbformat_minor": 2
}
